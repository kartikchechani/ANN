{
  "nbformat": 4,
  "nbformat_minor": 0,
  "metadata": {
    "colab": {
      "name": "ANN.ipynb",
      "provenance": [],
      "collapsed_sections": [],
      "toc_visible": true,
      "include_colab_link": true
    },
    "kernelspec": {
      "name": "python3",
      "display_name": "Python 3"
    }
  },
  "cells": [
    {
      "cell_type": "markdown",
      "metadata": {
        "id": "view-in-github",
        "colab_type": "text"
      },
      "source": [
        "<a href=\"https://colab.research.google.com/github/kartikchechani/ANN/blob/master/ANN.ipynb\" target=\"_parent\"><img src=\"https://colab.research.google.com/assets/colab-badge.svg\" alt=\"Open In Colab\"/></a>"
      ]
    },
    {
      "cell_type": "markdown",
      "metadata": {
        "id": "lP6JLo1tGNBg",
        "colab_type": "text"
      },
      "source": [
        "# Artificial Neural Network"
      ]
    },
    {
      "cell_type": "markdown",
      "metadata": {
        "id": "gWZyYmS_UE_L",
        "colab_type": "text"
      },
      "source": [
        "### Importing the libraries"
      ]
    },
    {
      "cell_type": "code",
      "metadata": {
        "id": "IaObRRLn214n",
        "colab_type": "code",
        "colab": {}
      },
      "source": [
        "import numpy as np\n",
        "import pandas as pd\n",
        "import tensorflow as tf"
      ],
      "execution_count": 3,
      "outputs": []
    },
    {
      "cell_type": "code",
      "metadata": {
        "id": "a5TKr5gE3D-b",
        "colab_type": "code",
        "colab": {
          "base_uri": "https://localhost:8080/",
          "height": 35
        },
        "outputId": "81bcfbd2-416c-4ca9-e2fa-368715c4e160"
      },
      "source": [
        "tf.__version__"
      ],
      "execution_count": 4,
      "outputs": [
        {
          "output_type": "execute_result",
          "data": {
            "application/vnd.google.colaboratory.intrinsic+json": {
              "type": "string"
            },
            "text/plain": [
              "'2.3.0'"
            ]
          },
          "metadata": {
            "tags": []
          },
          "execution_count": 4
        }
      ]
    },
    {
      "cell_type": "markdown",
      "metadata": {
        "id": "1E0Q3aoKUCRX",
        "colab_type": "text"
      },
      "source": [
        "## Part 1 - Data Preprocessing"
      ]
    },
    {
      "cell_type": "markdown",
      "metadata": {
        "id": "cKWAkFVGUU0Z",
        "colab_type": "text"
      },
      "source": [
        "### Importing the dataset"
      ]
    },
    {
      "cell_type": "code",
      "metadata": {
        "id": "2h8KLmhv3dh0",
        "colab_type": "code",
        "colab": {
          "base_uri": "https://localhost:8080/",
          "height": 269
        },
        "outputId": "d108605b-dea3-4009-91c0-1a7da37390e4"
      },
      "source": [
        "dataset = pd.read_csv('Churn_Modelling.csv')\n",
        "dataset.iloc[103]"
      ],
      "execution_count": 5,
      "outputs": [
        {
          "output_type": "execute_result",
          "data": {
            "text/plain": [
              "RowNumber               104\n",
              "CustomerId         15776605\n",
              "Surname             Bradley\n",
              "CreditScore             528\n",
              "Geography             Spain\n",
              "Gender                 Male\n",
              "Age                      36\n",
              "Tenure                    7\n",
              "Balance                   0\n",
              "NumOfProducts             2\n",
              "HasCrCard                 1\n",
              "IsActiveMember            0\n",
              "EstimatedSalary     60536.6\n",
              "Exited                    0\n",
              "Name: 103, dtype: object"
            ]
          },
          "metadata": {
            "tags": []
          },
          "execution_count": 5
        }
      ]
    },
    {
      "cell_type": "code",
      "metadata": {
        "id": "BTkzEy9k3YyG",
        "colab_type": "code",
        "colab": {
          "base_uri": "https://localhost:8080/",
          "height": 134
        },
        "outputId": "dfb1c7ac-3665-4387-c45c-a410d8bd2bc3"
      },
      "source": [
        "dataset = pd.read_csv('Churn_Modelling.csv')\n",
        "X = dataset.iloc[:,3:-1].values\n",
        "y = dataset.iloc[:,-1].values\n",
        "X"
      ],
      "execution_count": 6,
      "outputs": [
        {
          "output_type": "execute_result",
          "data": {
            "text/plain": [
              "array([[619, 'France', 'Female', ..., 1, 1, 101348.88],\n",
              "       [608, 'Spain', 'Female', ..., 0, 1, 112542.58],\n",
              "       [502, 'France', 'Female', ..., 1, 0, 113931.57],\n",
              "       ...,\n",
              "       [709, 'France', 'Female', ..., 0, 1, 42085.58],\n",
              "       [772, 'Germany', 'Male', ..., 1, 0, 92888.52],\n",
              "       [792, 'France', 'Female', ..., 1, 0, 38190.78]], dtype=object)"
            ]
          },
          "metadata": {
            "tags": []
          },
          "execution_count": 6
        }
      ]
    },
    {
      "cell_type": "markdown",
      "metadata": {
        "id": "N6bQ0UgSU-NJ",
        "colab_type": "text"
      },
      "source": [
        "### Encoding categorical data"
      ]
    },
    {
      "cell_type": "markdown",
      "metadata": {
        "id": "le5MJreAbW52",
        "colab_type": "text"
      },
      "source": [
        "Label Encoding the \"Gender\" column"
      ]
    },
    {
      "cell_type": "code",
      "metadata": {
        "id": "4lKzAb4bQK8u",
        "colab_type": "code",
        "colab": {
          "base_uri": "https://localhost:8080/",
          "height": 134
        },
        "outputId": "a10540a7-e73c-4f7c-8c16-bcd4a17e239a"
      },
      "source": [
        "from sklearn.preprocessing import LabelEncoder\n",
        "le = LabelEncoder()\n",
        "X[:,2] = le.fit_transform(X[:,2])\n",
        "X"
      ],
      "execution_count": 7,
      "outputs": [
        {
          "output_type": "execute_result",
          "data": {
            "text/plain": [
              "array([[619, 'France', 0, ..., 1, 1, 101348.88],\n",
              "       [608, 'Spain', 0, ..., 0, 1, 112542.58],\n",
              "       [502, 'France', 0, ..., 1, 0, 113931.57],\n",
              "       ...,\n",
              "       [709, 'France', 0, ..., 0, 1, 42085.58],\n",
              "       [772, 'Germany', 1, ..., 1, 0, 92888.52],\n",
              "       [792, 'France', 0, ..., 1, 0, 38190.78]], dtype=object)"
            ]
          },
          "metadata": {
            "tags": []
          },
          "execution_count": 7
        }
      ]
    },
    {
      "cell_type": "markdown",
      "metadata": {
        "id": "CUxGZezpbMcb",
        "colab_type": "text"
      },
      "source": [
        "One Hot Encoding the \"Geography\" column"
      ]
    },
    {
      "cell_type": "code",
      "metadata": {
        "id": "RepmKeGgQNF8",
        "colab_type": "code",
        "colab": {
          "base_uri": "https://localhost:8080/",
          "height": 134
        },
        "outputId": "97df5fb0-b187-4f05-c65f-2f759cc16b00"
      },
      "source": [
        "from sklearn.compose import ColumnTransformer\n",
        "from sklearn.preprocessing import OneHotEncoder\n",
        "ct = ColumnTransformer(transformers=[('encoder', OneHotEncoder(), [1])], remainder='passthrough')\n",
        "X = np.array(ct.fit_transform(X))\n",
        "X"
      ],
      "execution_count": 8,
      "outputs": [
        {
          "output_type": "execute_result",
          "data": {
            "text/plain": [
              "array([[1.0, 0.0, 0.0, ..., 1, 1, 101348.88],\n",
              "       [0.0, 0.0, 1.0, ..., 0, 1, 112542.58],\n",
              "       [1.0, 0.0, 0.0, ..., 1, 0, 113931.57],\n",
              "       ...,\n",
              "       [1.0, 0.0, 0.0, ..., 0, 1, 42085.58],\n",
              "       [0.0, 1.0, 0.0, ..., 1, 0, 92888.52],\n",
              "       [1.0, 0.0, 0.0, ..., 1, 0, 38190.78]], dtype=object)"
            ]
          },
          "metadata": {
            "tags": []
          },
          "execution_count": 8
        }
      ]
    },
    {
      "cell_type": "markdown",
      "metadata": {
        "id": "vHol938cW8zd",
        "colab_type": "text"
      },
      "source": [
        "### Splitting the dataset into the Training set and Test set"
      ]
    },
    {
      "cell_type": "code",
      "metadata": {
        "id": "5rYwS7X8Q2JX",
        "colab_type": "code",
        "colab": {}
      },
      "source": [
        "from sklearn.model_selection import train_test_split\n",
        "X_train, X_test, y_train, y_test = train_test_split(X, y, test_size = 0.2, random_state = 1)"
      ],
      "execution_count": 9,
      "outputs": []
    },
    {
      "cell_type": "markdown",
      "metadata": {
        "id": "RE_FcHyfV3TQ",
        "colab_type": "text"
      },
      "source": [
        "### Feature Scaling"
      ]
    },
    {
      "cell_type": "code",
      "metadata": {
        "id": "QU0HC_8DREF3",
        "colab_type": "code",
        "colab": {}
      },
      "source": [
        "from sklearn.preprocessing import StandardScaler\n",
        "sc = StandardScaler()\n",
        "X_train = sc.fit_transform(X_train)\n",
        "X_test = sc.transform(X_test)"
      ],
      "execution_count": 10,
      "outputs": []
    },
    {
      "cell_type": "markdown",
      "metadata": {
        "id": "-zfEzkRVXIwF",
        "colab_type": "text"
      },
      "source": [
        "## Part 2 - Building the ANN"
      ]
    },
    {
      "cell_type": "markdown",
      "metadata": {
        "id": "KvdeScabXtlB",
        "colab_type": "text"
      },
      "source": [
        "### Initializing the ANN"
      ]
    },
    {
      "cell_type": "code",
      "metadata": {
        "id": "t0zcUbzqSenR",
        "colab_type": "code",
        "colab": {}
      },
      "source": [
        "ann  = tf.keras.models.Sequential()"
      ],
      "execution_count": 11,
      "outputs": []
    },
    {
      "cell_type": "markdown",
      "metadata": {
        "id": "rP6urV6SX7kS",
        "colab_type": "text"
      },
      "source": [
        "### Adding the input layer and the first hidden layer"
      ]
    },
    {
      "cell_type": "code",
      "metadata": {
        "id": "uQ27tfC9N7Yd",
        "colab_type": "code",
        "colab": {}
      },
      "source": [
        "ann.add(tf.keras.layers.Dense(units=6,activation='relu'))"
      ],
      "execution_count": 12,
      "outputs": []
    },
    {
      "cell_type": "markdown",
      "metadata": {
        "id": "BELWAc_8YJze",
        "colab_type": "text"
      },
      "source": [
        "### Adding the second hidden layer"
      ]
    },
    {
      "cell_type": "code",
      "metadata": {
        "id": "liwA65XPOwpJ",
        "colab_type": "code",
        "colab": {}
      },
      "source": [
        "ann.add(tf.keras.layers.Dense(units=6,activation='relu'))"
      ],
      "execution_count": 13,
      "outputs": []
    },
    {
      "cell_type": "markdown",
      "metadata": {
        "id": "OyNEe6RXYcU4",
        "colab_type": "text"
      },
      "source": [
        "### Adding the output layer"
      ]
    },
    {
      "cell_type": "code",
      "metadata": {
        "id": "eu2X3OwmPBqd",
        "colab_type": "code",
        "colab": {}
      },
      "source": [
        "ann.add(tf.keras.layers.Dense(units=1,activation='sigmoid'))"
      ],
      "execution_count": 14,
      "outputs": []
    },
    {
      "cell_type": "markdown",
      "metadata": {
        "id": "JT4u2S1_Y4WG",
        "colab_type": "text"
      },
      "source": [
        "## Part 3 - Training the ANN"
      ]
    },
    {
      "cell_type": "code",
      "metadata": {
        "id": "MSMPgalbPtrx",
        "colab_type": "code",
        "colab": {}
      },
      "source": [
        "ann.compile(optimizer='adam',loss='binary_crossentropy',metrics=['accuracy'])"
      ],
      "execution_count": 15,
      "outputs": []
    },
    {
      "cell_type": "markdown",
      "metadata": {
        "id": "8GWlJChhY_ZI",
        "colab_type": "text"
      },
      "source": [
        "### Compiling the ANN"
      ]
    },
    {
      "cell_type": "code",
      "metadata": {
        "id": "l4oM_C09RyXo",
        "colab_type": "code",
        "colab": {
          "base_uri": "https://localhost:8080/",
          "height": 1000
        },
        "outputId": "cbd42b8a-311b-43c2-8742-f8a34caf55a9"
      },
      "source": [
        "ann.fit(X_train,y_train,batch_size=32,epochs=100)"
      ],
      "execution_count": 16,
      "outputs": [
        {
          "output_type": "stream",
          "text": [
            "Epoch 1/100\n",
            "250/250 [==============================] - 0s 973us/step - loss: 0.5465 - accuracy: 0.7834\n",
            "Epoch 2/100\n",
            "250/250 [==============================] - 0s 951us/step - loss: 0.4814 - accuracy: 0.8009\n",
            "Epoch 3/100\n",
            "250/250 [==============================] - 0s 976us/step - loss: 0.4543 - accuracy: 0.8039\n",
            "Epoch 4/100\n",
            "250/250 [==============================] - 0s 1ms/step - loss: 0.4390 - accuracy: 0.8108\n",
            "Epoch 5/100\n",
            "250/250 [==============================] - 0s 934us/step - loss: 0.4296 - accuracy: 0.8161\n",
            "Epoch 6/100\n",
            "250/250 [==============================] - 0s 1ms/step - loss: 0.4225 - accuracy: 0.8205\n",
            "Epoch 7/100\n",
            "250/250 [==============================] - 0s 932us/step - loss: 0.4156 - accuracy: 0.8266\n",
            "Epoch 8/100\n",
            "250/250 [==============================] - 0s 929us/step - loss: 0.4093 - accuracy: 0.8322\n",
            "Epoch 9/100\n",
            "250/250 [==============================] - 0s 962us/step - loss: 0.4028 - accuracy: 0.8332\n",
            "Epoch 10/100\n",
            "250/250 [==============================] - 0s 952us/step - loss: 0.3963 - accuracy: 0.8382\n",
            "Epoch 11/100\n",
            "250/250 [==============================] - 0s 931us/step - loss: 0.3895 - accuracy: 0.8396\n",
            "Epoch 12/100\n",
            "250/250 [==============================] - 0s 948us/step - loss: 0.3824 - accuracy: 0.8425\n",
            "Epoch 13/100\n",
            "250/250 [==============================] - 0s 938us/step - loss: 0.3754 - accuracy: 0.8451\n",
            "Epoch 14/100\n",
            "250/250 [==============================] - 0s 965us/step - loss: 0.3689 - accuracy: 0.8471\n",
            "Epoch 15/100\n",
            "250/250 [==============================] - 0s 901us/step - loss: 0.3624 - accuracy: 0.8510\n",
            "Epoch 16/100\n",
            "250/250 [==============================] - 0s 925us/step - loss: 0.3561 - accuracy: 0.8520\n",
            "Epoch 17/100\n",
            "250/250 [==============================] - 0s 945us/step - loss: 0.3519 - accuracy: 0.8541\n",
            "Epoch 18/100\n",
            "250/250 [==============================] - 0s 913us/step - loss: 0.3480 - accuracy: 0.8558\n",
            "Epoch 19/100\n",
            "250/250 [==============================] - 0s 936us/step - loss: 0.3459 - accuracy: 0.8549\n",
            "Epoch 20/100\n",
            "250/250 [==============================] - 0s 916us/step - loss: 0.3440 - accuracy: 0.8594\n",
            "Epoch 21/100\n",
            "250/250 [==============================] - 0s 939us/step - loss: 0.3424 - accuracy: 0.8579\n",
            "Epoch 22/100\n",
            "250/250 [==============================] - 0s 951us/step - loss: 0.3414 - accuracy: 0.8601\n",
            "Epoch 23/100\n",
            "250/250 [==============================] - 0s 899us/step - loss: 0.3404 - accuracy: 0.8599\n",
            "Epoch 24/100\n",
            "250/250 [==============================] - 0s 939us/step - loss: 0.3392 - accuracy: 0.8608\n",
            "Epoch 25/100\n",
            "250/250 [==============================] - 0s 941us/step - loss: 0.3381 - accuracy: 0.8615\n",
            "Epoch 26/100\n",
            "250/250 [==============================] - 0s 912us/step - loss: 0.3380 - accuracy: 0.8624\n",
            "Epoch 27/100\n",
            "250/250 [==============================] - 0s 962us/step - loss: 0.3371 - accuracy: 0.8612\n",
            "Epoch 28/100\n",
            "250/250 [==============================] - 0s 1ms/step - loss: 0.3367 - accuracy: 0.8635\n",
            "Epoch 29/100\n",
            "250/250 [==============================] - 0s 941us/step - loss: 0.3366 - accuracy: 0.8609\n",
            "Epoch 30/100\n",
            "250/250 [==============================] - 0s 920us/step - loss: 0.3359 - accuracy: 0.8606\n",
            "Epoch 31/100\n",
            "250/250 [==============================] - 0s 920us/step - loss: 0.3358 - accuracy: 0.8618\n",
            "Epoch 32/100\n",
            "250/250 [==============================] - 0s 925us/step - loss: 0.3356 - accuracy: 0.8619\n",
            "Epoch 33/100\n",
            "250/250 [==============================] - 0s 956us/step - loss: 0.3357 - accuracy: 0.8601\n",
            "Epoch 34/100\n",
            "250/250 [==============================] - 0s 1ms/step - loss: 0.3350 - accuracy: 0.8599\n",
            "Epoch 35/100\n",
            "250/250 [==============================] - 0s 1ms/step - loss: 0.3351 - accuracy: 0.8600\n",
            "Epoch 36/100\n",
            "250/250 [==============================] - 0s 1ms/step - loss: 0.3349 - accuracy: 0.8611\n",
            "Epoch 37/100\n",
            "250/250 [==============================] - 0s 943us/step - loss: 0.3344 - accuracy: 0.8609\n",
            "Epoch 38/100\n",
            "250/250 [==============================] - 0s 930us/step - loss: 0.3345 - accuracy: 0.8594\n",
            "Epoch 39/100\n",
            "250/250 [==============================] - 0s 1ms/step - loss: 0.3342 - accuracy: 0.8619\n",
            "Epoch 40/100\n",
            "250/250 [==============================] - 0s 1ms/step - loss: 0.3342 - accuracy: 0.8609\n",
            "Epoch 41/100\n",
            "250/250 [==============================] - 0s 1ms/step - loss: 0.3341 - accuracy: 0.8599\n",
            "Epoch 42/100\n",
            "250/250 [==============================] - 0s 925us/step - loss: 0.3337 - accuracy: 0.8618\n",
            "Epoch 43/100\n",
            "250/250 [==============================] - 0s 938us/step - loss: 0.3338 - accuracy: 0.8616\n",
            "Epoch 44/100\n",
            "250/250 [==============================] - 0s 919us/step - loss: 0.3338 - accuracy: 0.8604\n",
            "Epoch 45/100\n",
            "250/250 [==============================] - 0s 961us/step - loss: 0.3332 - accuracy: 0.8608\n",
            "Epoch 46/100\n",
            "250/250 [==============================] - 0s 939us/step - loss: 0.3335 - accuracy: 0.8616\n",
            "Epoch 47/100\n",
            "250/250 [==============================] - 0s 969us/step - loss: 0.3330 - accuracy: 0.8616\n",
            "Epoch 48/100\n",
            "250/250 [==============================] - 0s 910us/step - loss: 0.3330 - accuracy: 0.8627\n",
            "Epoch 49/100\n",
            "250/250 [==============================] - 0s 941us/step - loss: 0.3333 - accuracy: 0.8612\n",
            "Epoch 50/100\n",
            "250/250 [==============================] - 0s 1ms/step - loss: 0.3330 - accuracy: 0.8621\n",
            "Epoch 51/100\n",
            "250/250 [==============================] - 0s 905us/step - loss: 0.3333 - accuracy: 0.8605\n",
            "Epoch 52/100\n",
            "250/250 [==============================] - 0s 919us/step - loss: 0.3328 - accuracy: 0.8619\n",
            "Epoch 53/100\n",
            "250/250 [==============================] - 0s 945us/step - loss: 0.3327 - accuracy: 0.8618\n",
            "Epoch 54/100\n",
            "250/250 [==============================] - 0s 916us/step - loss: 0.3329 - accuracy: 0.8621\n",
            "Epoch 55/100\n",
            "250/250 [==============================] - 0s 904us/step - loss: 0.3328 - accuracy: 0.8600\n",
            "Epoch 56/100\n",
            "250/250 [==============================] - 0s 887us/step - loss: 0.3326 - accuracy: 0.8618\n",
            "Epoch 57/100\n",
            "250/250 [==============================] - 0s 965us/step - loss: 0.3323 - accuracy: 0.8608\n",
            "Epoch 58/100\n",
            "250/250 [==============================] - 0s 954us/step - loss: 0.3325 - accuracy: 0.8597\n",
            "Epoch 59/100\n",
            "250/250 [==============================] - 0s 915us/step - loss: 0.3326 - accuracy: 0.8599\n",
            "Epoch 60/100\n",
            "250/250 [==============================] - 0s 936us/step - loss: 0.3330 - accuracy: 0.8606\n",
            "Epoch 61/100\n",
            "250/250 [==============================] - 0s 921us/step - loss: 0.3327 - accuracy: 0.8612\n",
            "Epoch 62/100\n",
            "250/250 [==============================] - 0s 950us/step - loss: 0.3323 - accuracy: 0.8616\n",
            "Epoch 63/100\n",
            "250/250 [==============================] - 0s 916us/step - loss: 0.3323 - accuracy: 0.8594\n",
            "Epoch 64/100\n",
            "250/250 [==============================] - 0s 904us/step - loss: 0.3323 - accuracy: 0.8618\n",
            "Epoch 65/100\n",
            "250/250 [==============================] - 0s 926us/step - loss: 0.3321 - accuracy: 0.8601\n",
            "Epoch 66/100\n",
            "250/250 [==============================] - 0s 981us/step - loss: 0.3323 - accuracy: 0.8614\n",
            "Epoch 67/100\n",
            "250/250 [==============================] - 0s 926us/step - loss: 0.3320 - accuracy: 0.8624\n",
            "Epoch 68/100\n",
            "250/250 [==============================] - 0s 922us/step - loss: 0.3323 - accuracy: 0.8619\n",
            "Epoch 69/100\n",
            "250/250 [==============================] - 0s 891us/step - loss: 0.3318 - accuracy: 0.8608\n",
            "Epoch 70/100\n",
            "250/250 [==============================] - 0s 929us/step - loss: 0.3319 - accuracy: 0.8633\n",
            "Epoch 71/100\n",
            "250/250 [==============================] - 0s 1ms/step - loss: 0.3317 - accuracy: 0.8618\n",
            "Epoch 72/100\n",
            "250/250 [==============================] - 0s 1ms/step - loss: 0.3322 - accuracy: 0.8602\n",
            "Epoch 73/100\n",
            "250/250 [==============================] - 0s 1ms/step - loss: 0.3322 - accuracy: 0.8616\n",
            "Epoch 74/100\n",
            "250/250 [==============================] - 0s 948us/step - loss: 0.3316 - accuracy: 0.8621\n",
            "Epoch 75/100\n",
            "250/250 [==============================] - 0s 1ms/step - loss: 0.3319 - accuracy: 0.8602\n",
            "Epoch 76/100\n",
            "250/250 [==============================] - 0s 1ms/step - loss: 0.3318 - accuracy: 0.8601\n",
            "Epoch 77/100\n",
            "250/250 [==============================] - 0s 1ms/step - loss: 0.3316 - accuracy: 0.8618\n",
            "Epoch 78/100\n",
            "250/250 [==============================] - 0s 949us/step - loss: 0.3319 - accuracy: 0.8609\n",
            "Epoch 79/100\n",
            "250/250 [==============================] - 0s 933us/step - loss: 0.3315 - accuracy: 0.8615\n",
            "Epoch 80/100\n",
            "250/250 [==============================] - 0s 906us/step - loss: 0.3323 - accuracy: 0.8614\n",
            "Epoch 81/100\n",
            "250/250 [==============================] - 0s 936us/step - loss: 0.3318 - accuracy: 0.8618\n",
            "Epoch 82/100\n",
            "250/250 [==============================] - 0s 964us/step - loss: 0.3317 - accuracy: 0.8615\n",
            "Epoch 83/100\n",
            "250/250 [==============================] - 0s 933us/step - loss: 0.3312 - accuracy: 0.8621\n",
            "Epoch 84/100\n",
            "250/250 [==============================] - 0s 904us/step - loss: 0.3315 - accuracy: 0.8626\n",
            "Epoch 85/100\n",
            "250/250 [==============================] - 0s 922us/step - loss: 0.3316 - accuracy: 0.8606\n",
            "Epoch 86/100\n",
            "250/250 [==============================] - 0s 972us/step - loss: 0.3314 - accuracy: 0.8625\n",
            "Epoch 87/100\n",
            "250/250 [==============================] - 0s 1ms/step - loss: 0.3315 - accuracy: 0.8612\n",
            "Epoch 88/100\n",
            "250/250 [==============================] - 0s 1ms/step - loss: 0.3315 - accuracy: 0.8611\n",
            "Epoch 89/100\n",
            "250/250 [==============================] - 0s 1ms/step - loss: 0.3315 - accuracy: 0.8612\n",
            "Epoch 90/100\n",
            "250/250 [==============================] - 0s 949us/step - loss: 0.3315 - accuracy: 0.8606\n",
            "Epoch 91/100\n",
            "250/250 [==============================] - 0s 979us/step - loss: 0.3315 - accuracy: 0.8631\n",
            "Epoch 92/100\n",
            "250/250 [==============================] - 0s 958us/step - loss: 0.3314 - accuracy: 0.8608\n",
            "Epoch 93/100\n",
            "250/250 [==============================] - 0s 911us/step - loss: 0.3317 - accuracy: 0.8620\n",
            "Epoch 94/100\n",
            "250/250 [==============================] - 0s 945us/step - loss: 0.3315 - accuracy: 0.8610\n",
            "Epoch 95/100\n",
            "250/250 [==============================] - 0s 982us/step - loss: 0.3313 - accuracy: 0.8611\n",
            "Epoch 96/100\n",
            "250/250 [==============================] - 0s 917us/step - loss: 0.3314 - accuracy: 0.8619\n",
            "Epoch 97/100\n",
            "250/250 [==============================] - 0s 952us/step - loss: 0.3311 - accuracy: 0.8621\n",
            "Epoch 98/100\n",
            "250/250 [==============================] - 0s 1ms/step - loss: 0.3310 - accuracy: 0.8621\n",
            "Epoch 99/100\n",
            "250/250 [==============================] - 0s 893us/step - loss: 0.3312 - accuracy: 0.8605\n",
            "Epoch 100/100\n",
            "250/250 [==============================] - 0s 905us/step - loss: 0.3314 - accuracy: 0.8608\n"
          ],
          "name": "stdout"
        },
        {
          "output_type": "execute_result",
          "data": {
            "text/plain": [
              "<tensorflow.python.keras.callbacks.History at 0x7f1d68e3c550>"
            ]
          },
          "metadata": {
            "tags": []
          },
          "execution_count": 16
        }
      ]
    },
    {
      "cell_type": "markdown",
      "metadata": {
        "id": "0QR_G5u7ZLSM",
        "colab_type": "text"
      },
      "source": [
        "### Training the ANN on the Training set"
      ]
    },
    {
      "cell_type": "code",
      "metadata": {
        "id": "HFb0Q8pZb_Z7",
        "colab_type": "code",
        "colab": {}
      },
      "source": [
        ""
      ],
      "execution_count": 16,
      "outputs": []
    },
    {
      "cell_type": "markdown",
      "metadata": {
        "id": "tJj5k2MxZga3",
        "colab_type": "text"
      },
      "source": [
        "## Part 4 - Making the predictions and evaluating the model"
      ]
    },
    {
      "cell_type": "markdown",
      "metadata": {
        "id": "84QFoqGYeXHL",
        "colab_type": "text"
      },
      "source": [
        "### Predicting the result of a single observation"
      ]
    },
    {
      "cell_type": "markdown",
      "metadata": {
        "id": "CGRo3eacgDdC",
        "colab_type": "text"
      },
      "source": [
        "**Homework**\n",
        "\n",
        "Use our ANN model to predict if the customer with the following informations will leave the bank: \n",
        "\n",
        "Geography: France\n",
        "\n",
        "Credit Score: 600\n",
        "\n",
        "Gender: Male\n",
        "\n",
        "Age: 40 years old\n",
        "\n",
        "Tenure: 3 years\n",
        "\n",
        "Balance: \\$ 60000\n",
        "\n",
        "Number of Products: 2\n",
        "\n",
        "Does this customer have a credit card? Yes\n",
        "\n",
        "Is this customer an Active Member: Yes\n",
        "\n",
        "Estimated Salary: \\$ 50000\n",
        "\n",
        "So, should we say goodbye to that customer?"
      ]
    },
    {
      "cell_type": "markdown",
      "metadata": {
        "id": "ZhU1LTgPg-kH",
        "colab_type": "text"
      },
      "source": [
        "**Solution**"
      ]
    },
    {
      "cell_type": "markdown",
      "metadata": {
        "id": "wGjx94g2n7OV",
        "colab_type": "text"
      },
      "source": [
        "Therefore, our ANN model predicts that this customer stays in the bank!\n",
        "\n",
        "**Important note 1:** Notice that the values of the features were all input in a double pair of square brackets. That's because the \"predict\" method always expects a 2D array as the format of its inputs. And putting our values into a double pair of square brackets makes the input exactly a 2D array.\n",
        "\n",
        "**Important note 2:** Notice also that the \"France\" country was not input as a string in the last column but as \"1, 0, 0\" in the first three columns. That's because of course the predict method expects the one-hot-encoded values of the state, and as we see in the first row of the matrix of features X, \"France\" was encoded as \"1, 0, 0\". And be careful to include these values in the first three columns, because the dummy variables are always created in the first columns."
      ]
    },
    {
      "cell_type": "markdown",
      "metadata": {
        "id": "u7yx47jPZt11",
        "colab_type": "text"
      },
      "source": [
        "### Predicting the Test set results"
      ]
    },
    {
      "cell_type": "code",
      "metadata": {
        "id": "MqueRWSHdLvT",
        "colab_type": "code",
        "colab": {
          "base_uri": "https://localhost:8080/",
          "height": 34
        },
        "outputId": "db4f6d84-2751-4659-fac5-1cfb1b917bbd"
      },
      "source": [
        "print(ann.predict(sc.transform([[1,0,0,600,1,40,3,60000,2,1,1,50000]]))>0.5)"
      ],
      "execution_count": 17,
      "outputs": [
        {
          "output_type": "stream",
          "text": [
            "[[False]]\n"
          ],
          "name": "stdout"
        }
      ]
    },
    {
      "cell_type": "markdown",
      "metadata": {
        "id": "o0oyfLWoaEGw",
        "colab_type": "text"
      },
      "source": [
        "### Making the Confusion Matrix"
      ]
    },
    {
      "cell_type": "code",
      "metadata": {
        "id": "BXxjh9Omiwrx",
        "colab_type": "code",
        "colab": {
          "base_uri": "https://localhost:8080/",
          "height": 34
        },
        "outputId": "9ff7920f-74db-417a-a78b-3faa18dd03df"
      },
      "source": [
        "y_pred = ann.predict(X_test)\n",
        "y_pred = (y_pred>0.5)\n"
      ],
      "execution_count": 21,
      "outputs": [
        {
          "output_type": "execute_result",
          "data": {
            "text/plain": [
              "False"
            ]
          },
          "metadata": {
            "tags": []
          },
          "execution_count": 21
        }
      ]
    },
    {
      "cell_type": "code",
      "metadata": {
        "id": "H4ArUJ0ckeqa",
        "colab_type": "code",
        "colab": {
          "base_uri": "https://localhost:8080/",
          "height": 50
        },
        "outputId": "8b34ec98-41d3-45e1-be12-a1c6e8110a4f"
      },
      "source": [
        "from sklearn.metrics import confusion_matrix,accuracy_score\n",
        "cm = confusion_matrix(y_pred,y_test)\n",
        "print(cm)"
      ],
      "execution_count": 19,
      "outputs": [
        {
          "output_type": "stream",
          "text": [
            "[[1527  202]\n",
            " [  58  213]]\n"
          ],
          "name": "stdout"
        }
      ]
    },
    {
      "cell_type": "code",
      "metadata": {
        "id": "xg43wDeVu_Af",
        "colab_type": "code",
        "colab": {
          "base_uri": "https://localhost:8080/",
          "height": 34
        },
        "outputId": "6778d0b2-0c8b-4a60-b1a3-09578bb478ff"
      },
      "source": [
        "accuracy_score(y_pred,y_test)"
      ],
      "execution_count": 23,
      "outputs": [
        {
          "output_type": "execute_result",
          "data": {
            "text/plain": [
              "0.87"
            ]
          },
          "metadata": {
            "tags": []
          },
          "execution_count": 23
        }
      ]
    },
    {
      "cell_type": "code",
      "metadata": {
        "id": "k2gPjGrIvSle",
        "colab_type": "code",
        "colab": {}
      },
      "source": [
        ""
      ],
      "execution_count": null,
      "outputs": []
    }
  ]
}